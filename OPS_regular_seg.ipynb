{
  "nbformat": 4,
  "nbformat_minor": 0,
  "metadata": {
    "colab": {
      "provenance": [],
      "authorship_tag": "ABX9TyP85JJCERjUZcpynI7AVxZP",
      "include_colab_link": true
    },
    "kernelspec": {
      "name": "python3",
      "display_name": "Python 3"
    },
    "language_info": {
      "name": "python"
    }
  },
  "cells": [
    {
      "cell_type": "markdown",
      "metadata": {
        "id": "view-in-github",
        "colab_type": "text"
      },
      "source": [
        "<a href=\"https://colab.research.google.com/github/Risad-Raihan/ops_segmentation/blob/main/OPS_regular_seg.ipynb\" target=\"_parent\"><img src=\"https://colab.research.google.com/assets/colab-badge.svg\" alt=\"Open In Colab\"/></a>"
      ]
    },
    {
      "cell_type": "code",
      "execution_count": 1,
      "metadata": {
        "colab": {
          "base_uri": "https://localhost:8080/"
        },
        "id": "XAMbEtc99JuE",
        "outputId": "634c2442-2fa0-4f0a-de49-2e91c77ea9f8"
      },
      "outputs": [
        {
          "output_type": "stream",
          "name": "stdout",
          "text": [
            "Mounted at /content/drive\n"
          ]
        }
      ],
      "source": [
        "from google.colab import drive\n",
        "drive.mount('/content/drive', force_remount = True)\n"
      ]
    },
    {
      "cell_type": "code",
      "source": [
        "import pandas as pd"
      ],
      "metadata": {
        "id": "UjSC_P069N22"
      },
      "execution_count": 2,
      "outputs": []
    },
    {
      "cell_type": "code",
      "source": [
        "df = pd.read_csv('/content/drive/My Drive/ops_segmentation-main/sale_data.csv')"
      ],
      "metadata": {
        "id": "uRPhuQrY-873"
      },
      "execution_count": 3,
      "outputs": []
    },
    {
      "cell_type": "code",
      "source": [
        "\n",
        "df.head(5)"
      ],
      "metadata": {
        "colab": {
          "base_uri": "https://localhost:8080/",
          "height": 206
        },
        "id": "i-V47gCq_TqV",
        "outputId": "147763a6-4aaf-47ab-a8e7-e9aef40df2a4"
      },
      "execution_count": 4,
      "outputs": [
        {
          "output_type": "execute_result",
          "data": {
            "text/plain": [
              "         Date customer_code                     outlet  quantity  sales_price\n",
              "0  2023-01-02    AP01500566       Saturn Textiles Ltd.     647.0    169210.00\n",
              "1  2023-01-04    AP01005995     Southern Garments Ltd.     148.0      5989.00\n",
              "2  2023-01-31    AP02733858  Abanti Colour Tex Limited     129.0      3054.80\n",
              "3  2023-02-02    AP01005995     Southern Garments Ltd.       8.0      2940.00\n",
              "4  2023-02-02    AP02733858  Abanti Colour Tex Limited     132.0      2899.02"
            ],
            "text/html": [
              "\n",
              "  <div id=\"df-c0813c15-6b2c-4429-8f6f-d89dd70124e9\" class=\"colab-df-container\">\n",
              "    <div>\n",
              "<style scoped>\n",
              "    .dataframe tbody tr th:only-of-type {\n",
              "        vertical-align: middle;\n",
              "    }\n",
              "\n",
              "    .dataframe tbody tr th {\n",
              "        vertical-align: top;\n",
              "    }\n",
              "\n",
              "    .dataframe thead th {\n",
              "        text-align: right;\n",
              "    }\n",
              "</style>\n",
              "<table border=\"1\" class=\"dataframe\">\n",
              "  <thead>\n",
              "    <tr style=\"text-align: right;\">\n",
              "      <th></th>\n",
              "      <th>Date</th>\n",
              "      <th>customer_code</th>\n",
              "      <th>outlet</th>\n",
              "      <th>quantity</th>\n",
              "      <th>sales_price</th>\n",
              "    </tr>\n",
              "  </thead>\n",
              "  <tbody>\n",
              "    <tr>\n",
              "      <th>0</th>\n",
              "      <td>2023-01-02</td>\n",
              "      <td>AP01500566</td>\n",
              "      <td>Saturn Textiles Ltd.</td>\n",
              "      <td>647.0</td>\n",
              "      <td>169210.00</td>\n",
              "    </tr>\n",
              "    <tr>\n",
              "      <th>1</th>\n",
              "      <td>2023-01-04</td>\n",
              "      <td>AP01005995</td>\n",
              "      <td>Southern Garments Ltd.</td>\n",
              "      <td>148.0</td>\n",
              "      <td>5989.00</td>\n",
              "    </tr>\n",
              "    <tr>\n",
              "      <th>2</th>\n",
              "      <td>2023-01-31</td>\n",
              "      <td>AP02733858</td>\n",
              "      <td>Abanti Colour Tex Limited</td>\n",
              "      <td>129.0</td>\n",
              "      <td>3054.80</td>\n",
              "    </tr>\n",
              "    <tr>\n",
              "      <th>3</th>\n",
              "      <td>2023-02-02</td>\n",
              "      <td>AP01005995</td>\n",
              "      <td>Southern Garments Ltd.</td>\n",
              "      <td>8.0</td>\n",
              "      <td>2940.00</td>\n",
              "    </tr>\n",
              "    <tr>\n",
              "      <th>4</th>\n",
              "      <td>2023-02-02</td>\n",
              "      <td>AP02733858</td>\n",
              "      <td>Abanti Colour Tex Limited</td>\n",
              "      <td>132.0</td>\n",
              "      <td>2899.02</td>\n",
              "    </tr>\n",
              "  </tbody>\n",
              "</table>\n",
              "</div>\n",
              "    <div class=\"colab-df-buttons\">\n",
              "\n",
              "  <div class=\"colab-df-container\">\n",
              "    <button class=\"colab-df-convert\" onclick=\"convertToInteractive('df-c0813c15-6b2c-4429-8f6f-d89dd70124e9')\"\n",
              "            title=\"Convert this dataframe to an interactive table.\"\n",
              "            style=\"display:none;\">\n",
              "\n",
              "  <svg xmlns=\"http://www.w3.org/2000/svg\" height=\"24px\" viewBox=\"0 -960 960 960\">\n",
              "    <path d=\"M120-120v-720h720v720H120Zm60-500h600v-160H180v160Zm220 220h160v-160H400v160Zm0 220h160v-160H400v160ZM180-400h160v-160H180v160Zm440 0h160v-160H620v160ZM180-180h160v-160H180v160Zm440 0h160v-160H620v160Z\"/>\n",
              "  </svg>\n",
              "    </button>\n",
              "\n",
              "  <style>\n",
              "    .colab-df-container {\n",
              "      display:flex;\n",
              "      gap: 12px;\n",
              "    }\n",
              "\n",
              "    .colab-df-convert {\n",
              "      background-color: #E8F0FE;\n",
              "      border: none;\n",
              "      border-radius: 50%;\n",
              "      cursor: pointer;\n",
              "      display: none;\n",
              "      fill: #1967D2;\n",
              "      height: 32px;\n",
              "      padding: 0 0 0 0;\n",
              "      width: 32px;\n",
              "    }\n",
              "\n",
              "    .colab-df-convert:hover {\n",
              "      background-color: #E2EBFA;\n",
              "      box-shadow: 0px 1px 2px rgba(60, 64, 67, 0.3), 0px 1px 3px 1px rgba(60, 64, 67, 0.15);\n",
              "      fill: #174EA6;\n",
              "    }\n",
              "\n",
              "    .colab-df-buttons div {\n",
              "      margin-bottom: 4px;\n",
              "    }\n",
              "\n",
              "    [theme=dark] .colab-df-convert {\n",
              "      background-color: #3B4455;\n",
              "      fill: #D2E3FC;\n",
              "    }\n",
              "\n",
              "    [theme=dark] .colab-df-convert:hover {\n",
              "      background-color: #434B5C;\n",
              "      box-shadow: 0px 1px 3px 1px rgba(0, 0, 0, 0.15);\n",
              "      filter: drop-shadow(0px 1px 2px rgba(0, 0, 0, 0.3));\n",
              "      fill: #FFFFFF;\n",
              "    }\n",
              "  </style>\n",
              "\n",
              "    <script>\n",
              "      const buttonEl =\n",
              "        document.querySelector('#df-c0813c15-6b2c-4429-8f6f-d89dd70124e9 button.colab-df-convert');\n",
              "      buttonEl.style.display =\n",
              "        google.colab.kernel.accessAllowed ? 'block' : 'none';\n",
              "\n",
              "      async function convertToInteractive(key) {\n",
              "        const element = document.querySelector('#df-c0813c15-6b2c-4429-8f6f-d89dd70124e9');\n",
              "        const dataTable =\n",
              "          await google.colab.kernel.invokeFunction('convertToInteractive',\n",
              "                                                    [key], {});\n",
              "        if (!dataTable) return;\n",
              "\n",
              "        const docLinkHtml = 'Like what you see? Visit the ' +\n",
              "          '<a target=\"_blank\" href=https://colab.research.google.com/notebooks/data_table.ipynb>data table notebook</a>'\n",
              "          + ' to learn more about interactive tables.';\n",
              "        element.innerHTML = '';\n",
              "        dataTable['output_type'] = 'display_data';\n",
              "        await google.colab.output.renderOutput(dataTable, element);\n",
              "        const docLink = document.createElement('div');\n",
              "        docLink.innerHTML = docLinkHtml;\n",
              "        element.appendChild(docLink);\n",
              "      }\n",
              "    </script>\n",
              "  </div>\n",
              "\n",
              "\n",
              "<div id=\"df-f9ccdefa-587b-466f-b128-34d419030b3e\">\n",
              "  <button class=\"colab-df-quickchart\" onclick=\"quickchart('df-f9ccdefa-587b-466f-b128-34d419030b3e')\"\n",
              "            title=\"Suggest charts\"\n",
              "            style=\"display:none;\">\n",
              "\n",
              "<svg xmlns=\"http://www.w3.org/2000/svg\" height=\"24px\"viewBox=\"0 0 24 24\"\n",
              "     width=\"24px\">\n",
              "    <g>\n",
              "        <path d=\"M19 3H5c-1.1 0-2 .9-2 2v14c0 1.1.9 2 2 2h14c1.1 0 2-.9 2-2V5c0-1.1-.9-2-2-2zM9 17H7v-7h2v7zm4 0h-2V7h2v10zm4 0h-2v-4h2v4z\"/>\n",
              "    </g>\n",
              "</svg>\n",
              "  </button>\n",
              "\n",
              "<style>\n",
              "  .colab-df-quickchart {\n",
              "      --bg-color: #E8F0FE;\n",
              "      --fill-color: #1967D2;\n",
              "      --hover-bg-color: #E2EBFA;\n",
              "      --hover-fill-color: #174EA6;\n",
              "      --disabled-fill-color: #AAA;\n",
              "      --disabled-bg-color: #DDD;\n",
              "  }\n",
              "\n",
              "  [theme=dark] .colab-df-quickchart {\n",
              "      --bg-color: #3B4455;\n",
              "      --fill-color: #D2E3FC;\n",
              "      --hover-bg-color: #434B5C;\n",
              "      --hover-fill-color: #FFFFFF;\n",
              "      --disabled-bg-color: #3B4455;\n",
              "      --disabled-fill-color: #666;\n",
              "  }\n",
              "\n",
              "  .colab-df-quickchart {\n",
              "    background-color: var(--bg-color);\n",
              "    border: none;\n",
              "    border-radius: 50%;\n",
              "    cursor: pointer;\n",
              "    display: none;\n",
              "    fill: var(--fill-color);\n",
              "    height: 32px;\n",
              "    padding: 0;\n",
              "    width: 32px;\n",
              "  }\n",
              "\n",
              "  .colab-df-quickchart:hover {\n",
              "    background-color: var(--hover-bg-color);\n",
              "    box-shadow: 0 1px 2px rgba(60, 64, 67, 0.3), 0 1px 3px 1px rgba(60, 64, 67, 0.15);\n",
              "    fill: var(--button-hover-fill-color);\n",
              "  }\n",
              "\n",
              "  .colab-df-quickchart-complete:disabled,\n",
              "  .colab-df-quickchart-complete:disabled:hover {\n",
              "    background-color: var(--disabled-bg-color);\n",
              "    fill: var(--disabled-fill-color);\n",
              "    box-shadow: none;\n",
              "  }\n",
              "\n",
              "  .colab-df-spinner {\n",
              "    border: 2px solid var(--fill-color);\n",
              "    border-color: transparent;\n",
              "    border-bottom-color: var(--fill-color);\n",
              "    animation:\n",
              "      spin 1s steps(1) infinite;\n",
              "  }\n",
              "\n",
              "  @keyframes spin {\n",
              "    0% {\n",
              "      border-color: transparent;\n",
              "      border-bottom-color: var(--fill-color);\n",
              "      border-left-color: var(--fill-color);\n",
              "    }\n",
              "    20% {\n",
              "      border-color: transparent;\n",
              "      border-left-color: var(--fill-color);\n",
              "      border-top-color: var(--fill-color);\n",
              "    }\n",
              "    30% {\n",
              "      border-color: transparent;\n",
              "      border-left-color: var(--fill-color);\n",
              "      border-top-color: var(--fill-color);\n",
              "      border-right-color: var(--fill-color);\n",
              "    }\n",
              "    40% {\n",
              "      border-color: transparent;\n",
              "      border-right-color: var(--fill-color);\n",
              "      border-top-color: var(--fill-color);\n",
              "    }\n",
              "    60% {\n",
              "      border-color: transparent;\n",
              "      border-right-color: var(--fill-color);\n",
              "    }\n",
              "    80% {\n",
              "      border-color: transparent;\n",
              "      border-right-color: var(--fill-color);\n",
              "      border-bottom-color: var(--fill-color);\n",
              "    }\n",
              "    90% {\n",
              "      border-color: transparent;\n",
              "      border-bottom-color: var(--fill-color);\n",
              "    }\n",
              "  }\n",
              "</style>\n",
              "\n",
              "  <script>\n",
              "    async function quickchart(key) {\n",
              "      const quickchartButtonEl =\n",
              "        document.querySelector('#' + key + ' button');\n",
              "      quickchartButtonEl.disabled = true;  // To prevent multiple clicks.\n",
              "      quickchartButtonEl.classList.add('colab-df-spinner');\n",
              "      try {\n",
              "        const charts = await google.colab.kernel.invokeFunction(\n",
              "            'suggestCharts', [key], {});\n",
              "      } catch (error) {\n",
              "        console.error('Error during call to suggestCharts:', error);\n",
              "      }\n",
              "      quickchartButtonEl.classList.remove('colab-df-spinner');\n",
              "      quickchartButtonEl.classList.add('colab-df-quickchart-complete');\n",
              "    }\n",
              "    (() => {\n",
              "      let quickchartButtonEl =\n",
              "        document.querySelector('#df-f9ccdefa-587b-466f-b128-34d419030b3e button');\n",
              "      quickchartButtonEl.style.display =\n",
              "        google.colab.kernel.accessAllowed ? 'block' : 'none';\n",
              "    })();\n",
              "  </script>\n",
              "</div>\n",
              "\n",
              "    </div>\n",
              "  </div>\n"
            ],
            "application/vnd.google.colaboratory.intrinsic+json": {
              "type": "dataframe",
              "variable_name": "df"
            }
          },
          "metadata": {},
          "execution_count": 4
        }
      ]
    },
    {
      "cell_type": "code",
      "source": [
        "df.info()"
      ],
      "metadata": {
        "colab": {
          "base_uri": "https://localhost:8080/"
        },
        "id": "491OWXZY_VSc",
        "outputId": "bf1cf250-b009-4287-949e-50b3f39d00f7"
      },
      "execution_count": 5,
      "outputs": [
        {
          "output_type": "stream",
          "name": "stdout",
          "text": [
            "<class 'pandas.core.frame.DataFrame'>\n",
            "RangeIndex: 458004 entries, 0 to 458003\n",
            "Data columns (total 5 columns):\n",
            " #   Column         Non-Null Count   Dtype  \n",
            "---  ------         --------------   -----  \n",
            " 0   Date           458004 non-null  object \n",
            " 1   customer_code  458004 non-null  object \n",
            " 2   outlet         457972 non-null  object \n",
            " 3   quantity       458004 non-null  float64\n",
            " 4   sales_price    458004 non-null  float64\n",
            "dtypes: float64(2), object(3)\n",
            "memory usage: 17.5+ MB\n"
          ]
        }
      ]
    },
    {
      "cell_type": "code",
      "source": [
        "import pandas as pd\n",
        "\n",
        "# Ensure the 'Date' column across all DataFrames is in datetime format\n",
        "df['Date'] = pd.to_datetime(df['Date'])\n",
        "df_angel['Date'] = pd.to_datetime(df_angel['Date'])\n",
        "df_fresh['Date'] = pd.to_datetime(df_fresh['Date'])\n",
        "\n",
        "# Merge df_angel and df_fresh to form a DataFrame of excluded customers\n",
        "excluded_customers = pd.concat([df_angel, df_fresh]).drop_duplicates()\n",
        "\n",
        "# Include the 'outlet' in the merge to retain this information\n",
        "df_return = df.merge(excluded_customers, on=['Date', 'customer_code', 'outlet'], how='left', indicator=True)\n",
        "\n",
        "# Filter to keep only those rows where '_merge' is 'left_only' indicating the customer is not in excluded_customers\n",
        "df_return = df_return[df_return['_merge'] == 'left_only']\n",
        "\n",
        "# Select only the Date, customer_code, and outlet columns for the final DataFrame\n",
        "df_return = df_return[['Date', 'customer_code', 'outlet']]\n",
        "\n",
        "# Display the DataFrame of returning customers\n",
        "print(df_return)\n"
      ],
      "metadata": {
        "colab": {
          "base_uri": "https://localhost:8080/"
        },
        "id": "imBlIy8r9XLp",
        "outputId": "3f543c8d-0121-40cb-9e3d-19c6b21d27bb"
      },
      "execution_count": 13,
      "outputs": [
        {
          "output_type": "stream",
          "name": "stderr",
          "text": [
            "<ipython-input-13-601d862c2641>:5: SettingWithCopyWarning: \n",
            "A value is trying to be set on a copy of a slice from a DataFrame.\n",
            "Try using .loc[row_indexer,col_indexer] = value instead\n",
            "\n",
            "See the caveats in the documentation: https://pandas.pydata.org/pandas-docs/stable/user_guide/indexing.html#returning-a-view-versus-a-copy\n",
            "  df_angel['Date'] = pd.to_datetime(df_angel['Date'])\n"
          ]
        },
        {
          "output_type": "stream",
          "name": "stdout",
          "text": [
            "             Date customer_code                     outlet\n",
            "8      2023-02-20    AP02733856  Abanti Colour Tex Limited\n",
            "9      2023-02-22    AP02733856  Abanti Colour Tex Limited\n",
            "63     2023-02-12    AP02733856  Abanti Colour Tex Limited\n",
            "66     2023-02-19    AP02733856  Abanti Colour Tex Limited\n",
            "117    2023-02-14    AP02733856  Abanti Colour Tex Limited\n",
            "...           ...           ...                        ...\n",
            "457991 2024-09-29    SSL1188277         Silken Sewing Ltd.\n",
            "457992 2024-09-29    SSL1228226         Silken Sewing Ltd.\n",
            "457993 2024-09-29    SSL1228341         Silken Sewing Ltd.\n",
            "457998 2024-09-29    SSL1431605         Silken Sewing Ltd.\n",
            "458000 2024-09-29    SSL1431674         Silken Sewing Ltd.\n",
            "\n",
            "[103541 rows x 3 columns]\n"
          ]
        }
      ]
    },
    {
      "cell_type": "code",
      "source": [
        "df_return.info()"
      ],
      "metadata": {
        "colab": {
          "base_uri": "https://localhost:8080/"
        },
        "id": "mcv1-T9BcEXK",
        "outputId": "53c27d6f-8d09-4d33-9f77-467a93d26f16"
      },
      "execution_count": 14,
      "outputs": [
        {
          "output_type": "stream",
          "name": "stdout",
          "text": [
            "<class 'pandas.core.frame.DataFrame'>\n",
            "Index: 103541 entries, 8 to 458000\n",
            "Data columns (total 3 columns):\n",
            " #   Column         Non-Null Count   Dtype         \n",
            "---  ------         --------------   -----         \n",
            " 0   Date           103541 non-null  datetime64[ns]\n",
            " 1   customer_code  103541 non-null  object        \n",
            " 2   outlet         103520 non-null  object        \n",
            "dtypes: datetime64[ns](1), object(2)\n",
            "memory usage: 3.2+ MB\n"
          ]
        }
      ]
    },
    {
      "cell_type": "code",
      "source": [
        "import pandas as pd\n",
        "\n",
        "# Assuming df is loaded and the 'Date' column is appropriately formatted\n",
        "df['Date'] = pd.to_datetime(df['Date'])\n",
        "\n",
        "# Define the sales threshold\n",
        "sales_threshold = 1399\n",
        "\n",
        "# Pre-compute the total sales per customer per outlet per month\n",
        "monthly_sales = df.groupby(['customer_code', 'outlet', pd.Grouper(key='Date', freq='M')]).agg(total_sales=('sales_price', 'sum')).reset_index()\n",
        "\n",
        "# Identify months with valid sales over the threshold\n",
        "valid_sales = monthly_sales[monthly_sales['total_sales'] > sales_threshold]\n",
        "\n",
        "# Count the number of valid months per customer per outlet\n",
        "valid_months_count = valid_sales.groupby(['customer_code', 'outlet']).size().reset_index(name='valid_months')\n",
        "\n",
        "# Filter customers who meet the criteria across all dates\n",
        "qualifying_customers = valid_months_count[valid_months_count['valid_months'] >= 2]\n",
        "\n",
        "# Prepare the DataFrame for merging\n",
        "# Convert 'Month' from the 'valid_sales' for merging\n",
        "valid_sales['Month'] = valid_sales['Date'].dt.to_period('M')\n",
        "\n",
        "# Merge this data with df to find actual days where transactions exist for these customers\n",
        "df['Month'] = df['Date'].dt.to_period('M')\n",
        "qualified_daily = df.merge(qualifying_customers, on=['customer_code', 'outlet'], how='inner')\n",
        "qualified_daily = qualified_daily[qualified_daily['Month'] == qualified_daily['Date'].dt.to_period('M')]\n",
        "\n",
        "# Drop duplicates to ensure unique entries\n",
        "qualified_daily.drop_duplicates(subset=['Date', 'customer_code', 'outlet'], inplace=True)\n",
        "\n",
        "# Select relevant columns\n",
        "df_angel = qualified_daily[['Date', 'customer_code', 'outlet']]\n",
        "\n",
        "print(df_angel)\n"
      ],
      "metadata": {
        "colab": {
          "base_uri": "https://localhost:8080/"
        },
        "id": "sh9XI8wzudh-",
        "outputId": "82c534df-f7a4-4870-be65-2fe0950ddeb8"
      },
      "execution_count": 7,
      "outputs": [
        {
          "output_type": "stream",
          "name": "stderr",
          "text": [
            "<ipython-input-7-a66c743f83b8>:23: SettingWithCopyWarning: \n",
            "A value is trying to be set on a copy of a slice from a DataFrame.\n",
            "Try using .loc[row_indexer,col_indexer] = value instead\n",
            "\n",
            "See the caveats in the documentation: https://pandas.pydata.org/pandas-docs/stable/user_guide/indexing.html#returning-a-view-versus-a-copy\n",
            "  valid_sales['Month'] = valid_sales['Date'].dt.to_period('M')\n"
          ]
        },
        {
          "output_type": "stream",
          "name": "stdout",
          "text": [
            "             Date customer_code                     outlet\n",
            "0      2023-01-02    AP01500566       Saturn Textiles Ltd.\n",
            "1      2023-02-05    AP01500566       Saturn Textiles Ltd.\n",
            "2      2023-04-03    AP01500566       Saturn Textiles Ltd.\n",
            "3      2023-01-08    AP01500566       Saturn Textiles Ltd.\n",
            "4      2023-02-13    AP01500566       Saturn Textiles Ltd.\n",
            "...           ...           ...                        ...\n",
            "283430 2024-09-17  AP0200525931  Majumder Garments Limited\n",
            "283431 2024-08-14  AP0320001910            KDS IDR Limited\n",
            "283432 2024-09-17  AP0320001910            KDS IDR Limited\n",
            "283433 2024-08-25  AP0200525179  Majumder Garments Limited\n",
            "283434 2024-09-12  AP0200525179  Majumder Garments Limited\n",
            "\n",
            "[283435 rows x 3 columns]\n"
          ]
        }
      ]
    },
    {
      "cell_type": "code",
      "source": [
        "import pandas as pd\n",
        "\n",
        "# Assuming 'df' is already loaded and the 'Date' column is formatted as datetime\n",
        "# Convert Date column if it's not already in datetime format\n",
        "df['Date'] = pd.to_datetime(df['Date'], format='%Y-%m-%d')\n",
        "\n",
        "# Create a new DataFrame to store each customer's first purchase date\n",
        "first_purchases = df.groupby('customer_code')['Date'].min().reset_index()\n",
        "first_purchases.rename(columns={'Date': 'First_Purchase_Date'}, inplace=True)\n",
        "\n",
        "# Merge this information back to the original DataFrame to annotate each transaction\n",
        "df = df.merge(first_purchases, on='customer_code', how='left')\n",
        "\n",
        "# Filter transactions where the transaction date is the same as the first purchase date\n",
        "df_fresh = df[df['Date'] == df['First_Purchase_Date']]\n",
        "\n",
        "# Select only the necessary columns for df_fresh\n",
        "df_fresh = df_fresh[['Date', 'customer_code', 'outlet']].drop_duplicates()\n",
        "\n",
        "# Display the resulting DataFrame of fresh customers\n",
        "print(df_fresh)\n"
      ],
      "metadata": {
        "colab": {
          "base_uri": "https://localhost:8080/"
        },
        "id": "9MOnNLsGvykL",
        "outputId": "ed577649-c6b1-4652-ec22-2ddd3a95d6ff"
      },
      "execution_count": 8,
      "outputs": [
        {
          "output_type": "stream",
          "name": "stdout",
          "text": [
            "             Date customer_code                outlet\n",
            "0      2023-01-02    AP01500566  Saturn Textiles Ltd.\n",
            "26     2023-05-18  AP0060000014            SQ Station\n",
            "27     2023-05-18  AP0060000986            SQ Station\n",
            "28     2023-05-18  AP0060001450            SQ Station\n",
            "29     2023-05-18  AP0060002906            SQ Station\n",
            "...           ...           ...                   ...\n",
            "457996 2024-09-29    SSL1391460    Silken Sewing Ltd.\n",
            "457997 2024-09-29    SSL1391493    Silken Sewing Ltd.\n",
            "458001 2024-09-29    SSL1596193    Silken Sewing Ltd.\n",
            "458002 2024-09-29    SSL1840720    Silken Sewing Ltd.\n",
            "458003 2024-09-29    SSL2054572    Silken Sewing Ltd.\n",
            "\n",
            "[90813 rows x 3 columns]\n"
          ]
        }
      ]
    },
    {
      "cell_type": "code",
      "source": [
        "df_fresh.info()"
      ],
      "metadata": {
        "colab": {
          "base_uri": "https://localhost:8080/"
        },
        "id": "K3w5U1uIavDi",
        "outputId": "b041b3c9-7073-4aca-9569-c9859ef00e04"
      },
      "execution_count": 12,
      "outputs": [
        {
          "output_type": "stream",
          "name": "stdout",
          "text": [
            "<class 'pandas.core.frame.DataFrame'>\n",
            "Index: 90813 entries, 0 to 458003\n",
            "Data columns (total 3 columns):\n",
            " #   Column         Non-Null Count  Dtype         \n",
            "---  ------         --------------  -----         \n",
            " 0   Date           90813 non-null  datetime64[ns]\n",
            " 1   customer_code  90813 non-null  object        \n",
            " 2   outlet         90802 non-null  object        \n",
            "dtypes: datetime64[ns](1), object(2)\n",
            "memory usage: 2.8+ MB\n"
          ]
        }
      ]
    },
    {
      "cell_type": "code",
      "source": [
        "import pandas as pd\n",
        "\n",
        "# First, aggregate the base data from df for customer count, sales, and quantity\n",
        "base_agg = df.groupby(['Date', 'outlet']).agg(\n",
        "    customer_count=('customer_code', 'nunique'),\n",
        "    total_sales=('sales_price', 'sum'),\n",
        "    quantity=('quantity', 'sum')\n",
        ").reset_index()\n",
        "\n",
        "# Aggregate unique customer counts for angel, fresh, and return customers for each day and outlet\n",
        "angel_agg = df_angel.groupby(['Date', 'outlet']).agg(\n",
        "    Angel_count=('customer_code', 'nunique')\n",
        ").reset_index()\n",
        "\n",
        "fresh_agg = df_fresh.groupby(['Date', 'outlet']).agg(\n",
        "    fresh_count=('customer_code', 'nunique')\n",
        ").reset_index()\n",
        "\n",
        "return_agg = df_return.groupby(['Date', 'outlet']).agg(\n",
        "    return_count=('customer_code', 'nunique')\n",
        ").reset_index()\n",
        "\n",
        "# Merge these aggregations with the base dataframe\n",
        "df_final = pd.merge(base_agg, angel_agg, on=['Date', 'outlet'], how='left')\n",
        "df_final = pd.merge(df_final, fresh_agg, on=['Date', 'outlet'], how='left')\n",
        "df_final = pd.merge(df_final, return_agg, on=['Date', 'outlet'], how='left')\n",
        "\n",
        "# Fill NaN values with 0 where there are no customers of that type on that day\n",
        "df_final.fillna({'Angel_count': 0, 'fresh_count': 0, 'return_count': 0}, inplace=True)\n",
        "\n",
        "# Ensure all counts are integers\n",
        "df_final['Angel_count'] = df_final['Angel_count'].astype(int)\n",
        "df_final['fresh_count'] = df_final['fresh_count'].astype(int)\n",
        "df_final['return_count'] = df_final['return_count'].astype(int)\n",
        "\n",
        "# Display the resulting DataFrame\n",
        "print(df_final)\n"
      ],
      "metadata": {
        "colab": {
          "base_uri": "https://localhost:8080/"
        },
        "id": "WNloQVdax-L3",
        "outputId": "82846f35-e6ec-414e-be0a-fdce01ad7307"
      },
      "execution_count": 15,
      "outputs": [
        {
          "output_type": "stream",
          "name": "stdout",
          "text": [
            "           Date                     outlet  customer_count  total_sales  \\\n",
            "0    2023-01-02       Saturn Textiles Ltd.               1  169210.0000   \n",
            "1    2023-01-03     Southern Garments Ltd.               1    1494.0000   \n",
            "2    2023-01-04       Saturn Textiles Ltd.               1   50085.0000   \n",
            "3    2023-01-04     Southern Garments Ltd.               1    5989.0000   \n",
            "4    2023-01-05       Saturn Textiles Ltd.               1   47930.0000   \n",
            "...         ...                        ...             ...          ...   \n",
            "7886 2024-09-29  Renaissance Apparels Ltd.              44   17793.4760   \n",
            "7887 2024-09-29       Saturn Textiles Ltd.              41   16830.4000   \n",
            "7888 2024-09-29         Silken Sewing Ltd.             153  119042.6135   \n",
            "7889 2024-09-29     Southern Garments Ltd.              40   18639.0000   \n",
            "7890 2024-09-29  Ultimate Fashions Limited              38   26236.0000   \n",
            "\n",
            "      quantity  Angel_count  fresh_count  return_count  \n",
            "0     647.0000            1            1             0  \n",
            "1       4.0000            1            1             0  \n",
            "2     607.0000            1            0             0  \n",
            "3     148.0000            1            0             0  \n",
            "4     555.0000            1            0             0  \n",
            "...        ...          ...          ...           ...  \n",
            "7886  233.1880           28            1            15  \n",
            "7887  211.5800           31            2             8  \n",
            "7888  979.0968           82           19            52  \n",
            "7889  163.0000           30            0            10  \n",
            "7890  193.0000           30            1             7  \n",
            "\n",
            "[7891 rows x 8 columns]\n"
          ]
        }
      ]
    },
    {
      "cell_type": "code",
      "source": [
        "import pandas as pd\n",
        "\n",
        "# Assuming df_final is already created and loaded\n",
        "\n",
        "# Drop the existing 'return_count' column\n",
        "df_final.drop(columns='return_count', inplace=True)\n",
        "\n",
        "# Create a new 'return_count' column\n",
        "df_final['return_count'] = df_final['customer_count'] - (df_final['Angel_count'] + df_final['fresh_count'])\n",
        "\n",
        "# Ensure no negative values in 'return_count'\n",
        "df_final['return_count'] = df_final['return_count'].clip(lower=0)\n",
        "\n",
        "# Display the updated DataFrame\n",
        "print(df_final)\n"
      ],
      "metadata": {
        "colab": {
          "base_uri": "https://localhost:8080/"
        },
        "id": "0YVdKctqyO8t",
        "outputId": "9ec60041-bd40-4d25-a55c-0b8093f59077"
      },
      "execution_count": 16,
      "outputs": [
        {
          "output_type": "stream",
          "name": "stdout",
          "text": [
            "           Date                     outlet  customer_count  total_sales  \\\n",
            "0    2023-01-02       Saturn Textiles Ltd.               1  169210.0000   \n",
            "1    2023-01-03     Southern Garments Ltd.               1    1494.0000   \n",
            "2    2023-01-04       Saturn Textiles Ltd.               1   50085.0000   \n",
            "3    2023-01-04     Southern Garments Ltd.               1    5989.0000   \n",
            "4    2023-01-05       Saturn Textiles Ltd.               1   47930.0000   \n",
            "...         ...                        ...             ...          ...   \n",
            "7886 2024-09-29  Renaissance Apparels Ltd.              44   17793.4760   \n",
            "7887 2024-09-29       Saturn Textiles Ltd.              41   16830.4000   \n",
            "7888 2024-09-29         Silken Sewing Ltd.             153  119042.6135   \n",
            "7889 2024-09-29     Southern Garments Ltd.              40   18639.0000   \n",
            "7890 2024-09-29  Ultimate Fashions Limited              38   26236.0000   \n",
            "\n",
            "      quantity  Angel_count  fresh_count  return_count  \n",
            "0     647.0000            1            1             0  \n",
            "1       4.0000            1            1             0  \n",
            "2     607.0000            1            0             0  \n",
            "3     148.0000            1            0             0  \n",
            "4     555.0000            1            0             0  \n",
            "...        ...          ...          ...           ...  \n",
            "7886  233.1880           28            1            15  \n",
            "7887  211.5800           31            2             8  \n",
            "7888  979.0968           82           19            52  \n",
            "7889  163.0000           30            0            10  \n",
            "7890  193.0000           30            1             7  \n",
            "\n",
            "[7891 rows x 8 columns]\n"
          ]
        }
      ]
    },
    {
      "cell_type": "code",
      "source": [
        "# Save DataFrame to Excel file in Colab's local environment\n",
        "df_final.to_excel('/content/seg_new.xlsx', index=False)\n"
      ],
      "metadata": {
        "id": "Fz9mK5grzbn7"
      },
      "execution_count": 17,
      "outputs": []
    },
    {
      "cell_type": "code",
      "source": [],
      "metadata": {
        "id": "VlAvdA4MzpZb"
      },
      "execution_count": null,
      "outputs": []
    }
  ]
}